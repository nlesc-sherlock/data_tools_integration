{
 "cells": [
  {
   "cell_type": "markdown",
   "metadata": {},
   "source": [
    "Read a sequence file with file blobs and perform calculations on it"
   ]
  },
  {
   "cell_type": "code",
   "execution_count": 2,
   "metadata": {
    "collapsed": false
   },
   "outputs": [],
   "source": [
    "import org.apache.hadoop.io._\n",
    "val images = sc.sequenceFile(\"images.seq\", classOf[Text], classOf[BytesWritable])"
   ]
  },
  {
   "cell_type": "code",
   "execution_count": 3,
   "metadata": {
    "collapsed": false
   },
   "outputs": [
    {
     "data": {
      "text/plain": [
       "16259"
      ]
     },
     "execution_count": 3,
     "metadata": {},
     "output_type": "execute_result"
    }
   ],
   "source": [
    "images.count()\n"
   ]
  },
  {
   "cell_type": "code",
   "execution_count": 19,
   "metadata": {
    "collapsed": false
   },
   "outputs": [],
   "source": [
    "val sizes = images.map(image => image._2.getLength())"
   ]
  },
  {
   "cell_type": "code",
   "execution_count": 10,
   "metadata": {
    "collapsed": false
   },
   "outputs": [
    {
     "data": {
      "text/plain": [
       "MapPartitionsRDD[3] at map at <console>:28"
      ]
     },
     "execution_count": 10,
     "metadata": {},
     "output_type": "execute_result"
    }
   ],
   "source": [
    "sizes"
   ]
  },
  {
   "cell_type": "code",
   "execution_count": 11,
   "metadata": {
    "collapsed": false
   },
   "outputs": [
    {
     "data": {
      "text/plain": [
       "images.seq HadoopRDD[2] at sequenceFile at <console>:26"
      ]
     },
     "execution_count": 11,
     "metadata": {},
     "output_type": "execute_result"
    }
   ],
   "source": [
    "images"
   ]
  },
  {
   "cell_type": "code",
   "execution_count": 14,
   "metadata": {
    "collapsed": false
   },
   "outputs": [
    {
     "data": {
      "text/plain": [
       "Array((images/Volkswagen/8f942b7bca3d8b.jpg,103218), (images/Volkswagen/d27303d7878850.jpg,125305), (images/Volkswagen/9c57ab6f3c3656.jpg,106845), (images/Volkswagen/3dd63332efa73d.jpg,85353), (images/Volkswagen/b4ad8b3bf5f3af.jpg,90647), (images/Volkswagen/59e0942e9464cd.jpg,54029), (images/Volkswagen/0c477c122b92db.jpg,77918), (images/Volkswagen/51672122840de1.jpg,52323), (images/Volkswagen/229bf8884203d1.jpg,78021), (images/Volkswagen/e5677465098e80.jpg,61608), (images/Volkswagen/fff4d9940dcaf5.jpg,66258), (images/Volkswagen/d16618583ea009.jpg,106136), (images/Volkswagen/853d3a02e0f674.jpg,64861), (images/Volkswagen/c0302b31c78c88.jpg,85965), (images/Volkswagen/ab113830b72b96.jpg,114072), (images/Volkswagen/f15d9483a93238.jpg,111127), (images/Volkswagen/f..."
      ]
     },
     "execution_count": 14,
     "metadata": {},
     "output_type": "execute_result"
    }
   ],
   "source": [
    "sizes.collect()"
   ]
  },
  {
   "cell_type": "code",
   "execution_count": 22,
   "metadata": {
    "collapsed": false
   },
   "outputs": [
    {
     "data": {
      "text/plain": [
       "400254"
      ]
     },
     "execution_count": 22,
     "metadata": {},
     "output_type": "execute_result"
    }
   ],
   "source": [
    "sizes.max()"
   ]
  }
 ],
 "metadata": {
  "kernelspec": {
   "display_name": "Toree",
   "language": "",
   "name": "toree"
  },
  "language_info": {
   "name": "scala"
  }
 },
 "nbformat": 4,
 "nbformat_minor": 0
}

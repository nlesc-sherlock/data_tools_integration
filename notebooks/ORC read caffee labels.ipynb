{
 "cells": [
  {
   "cell_type": "code",
   "execution_count": 3,
   "metadata": {
    "collapsed": false
   },
   "outputs": [],
   "source": [
    "val labels = sqlContext.read.orc(\"labels.orc\")"
   ]
  },
  {
   "cell_type": "code",
   "execution_count": 6,
   "metadata": {
    "collapsed": false
   },
   "outputs": [
    {
     "data": {
      "text/plain": [
       "Array([images/Volkswagen/94fe992547ecb3.jpg,[('n03977966 police van, police wagon, paddy wagon, patrol wagon, wagon, black Maria', 0.51648748), ('n03930630 pickup, pickup truck', 0.11580626)]\n",
       "], [images/Volkswagen/e8e602bac0426a.jpg,[('n02814533 beach wagon, station wagon, wagon, estate car, beach waggon, station waggon, waggon', 0.77242988)]\n",
       "], [images/Volkswagen/7e18894e8a731c.jpg,[('n03770679 minivan', 0.33394057), ('n03459775 grille, radiator grille', 0.17458756), ('n02974003 car wheel', 0.10872588), ('n03594945 jeep, landrover', 0.10469156)]\n",
       "], [images/Ford/819dbcbb211a9f.jpg,[('n03770679 minivan', 0.60497034), ('n03594945 jeep, landrover', 0.21900044)]\n",
       "], [images/Ford/d546797ff6a99c.jpg,[('n03459775 grille, radiator grille', 0.39959246), ('..."
      ]
     },
     "execution_count": 6,
     "metadata": {},
     "output_type": "execute_result"
    }
   ],
   "source": [
    "labels.take(5)"
   ]
  },
  {
   "cell_type": "code",
   "execution_count": 1,
   "metadata": {
    "collapsed": true
   },
   "outputs": [],
   "source": [
    "    val people = sqlContext.read.orc(\"people\")"
   ]
  },
  {
   "cell_type": "code",
   "execution_count": 2,
   "metadata": {
    "collapsed": false
   },
   "outputs": [
    {
     "data": {
      "text/plain": [
       "100"
      ]
     },
     "execution_count": 2,
     "metadata": {},
     "output_type": "execute_result"
    }
   ],
   "source": [
    "people.count()"
   ]
  },
  {
   "cell_type": "code",
   "execution_count": 3,
   "metadata": {
    "collapsed": true
   },
   "outputs": [],
   "source": [
    "val persons = sqlContext.read.orc(\"persons.orc\")"
   ]
  },
  {
   "cell_type": "code",
   "execution_count": 4,
   "metadata": {
    "collapsed": false
   },
   "outputs": [
    {
     "data": {
      "text/plain": [
       "1"
      ]
     },
     "execution_count": 4,
     "metadata": {},
     "output_type": "execute_result"
    }
   ],
   "source": [
    "persons.count()\n"
   ]
  },
  {
   "cell_type": "code",
   "execution_count": null,
   "metadata": {
    "collapsed": true
   },
   "outputs": [],
   "source": []
  }
 ],
 "metadata": {
  "kernelspec": {
   "display_name": "Toree",
   "language": "",
   "name": "toree"
  },
  "language_info": {
   "name": "scala"
  }
 },
 "nbformat": 4,
 "nbformat_minor": 0
}
